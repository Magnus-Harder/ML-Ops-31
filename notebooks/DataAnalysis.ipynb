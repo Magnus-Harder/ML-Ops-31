{
 "cells": [
  {
   "cell_type": "code",
   "execution_count": 1,
   "metadata": {},
   "outputs": [],
   "source": [
    "import pandas as pd\n",
    "\n",
    "data = pd.read_csv('data/raw/HateSpeechDataset.csv')\n",
    "data_balanced = pd.read_csv('data/raw/HateSpeechDatasetBalanced.csv')"
   ]
  },
  {
   "cell_type": "code",
   "execution_count": 6,
   "metadata": {},
   "outputs": [
    {
     "data": {
      "text/html": [
       "<div>\n",
       "<style scoped>\n",
       "    .dataframe tbody tr th:only-of-type {\n",
       "        vertical-align: middle;\n",
       "    }\n",
       "\n",
       "    .dataframe tbody tr th {\n",
       "        vertical-align: top;\n",
       "    }\n",
       "\n",
       "    .dataframe thead th {\n",
       "        text-align: right;\n",
       "    }\n",
       "</style>\n",
       "<table border=\"1\" class=\"dataframe\">\n",
       "  <thead>\n",
       "    <tr style=\"text-align: right;\">\n",
       "      <th></th>\n",
       "      <th>Content</th>\n",
       "      <th>Label</th>\n",
       "      <th>Content_int</th>\n",
       "    </tr>\n",
       "  </thead>\n",
       "  <tbody>\n",
       "    <tr>\n",
       "      <th>0</th>\n",
       "      <td>denial of normal the con be asked to comment o...</td>\n",
       "      <td>1</td>\n",
       "      <td>[146715, 0, 1, 2, 3, 4, 5, 6, 7, 8, 9, 10, 11,...</td>\n",
       "    </tr>\n",
       "    <tr>\n",
       "      <th>1</th>\n",
       "      <td>just by being able to tweet this insufferable ...</td>\n",
       "      <td>1</td>\n",
       "      <td>[146715, 14, 15, 16, 17, 7, 18, 19, 20, 21, 22...</td>\n",
       "    </tr>\n",
       "    <tr>\n",
       "      <th>2</th>\n",
       "      <td>that is retarded you too cute to be single tha...</td>\n",
       "      <td>1</td>\n",
       "      <td>[146715, 28, 29, 30, 26, 31, 32, 7, 5, 33, 28,...</td>\n",
       "    </tr>\n",
       "    <tr>\n",
       "      <th>3</th>\n",
       "      <td>thought of a real badass mongol style declarat...</td>\n",
       "      <td>1</td>\n",
       "      <td>[146715, 35, 1, 24, 36, 37, 38, 39, 40, 1, 41,...</td>\n",
       "    </tr>\n",
       "    <tr>\n",
       "      <th>4</th>\n",
       "      <td>afro american basho</td>\n",
       "      <td>1</td>\n",
       "      <td>[146715, 46, 47, 48, 146714]</td>\n",
       "    </tr>\n",
       "  </tbody>\n",
       "</table>\n",
       "</div>"
      ],
      "text/plain": [
       "                                             Content Label  \\\n",
       "0  denial of normal the con be asked to comment o...     1   \n",
       "1  just by being able to tweet this insufferable ...     1   \n",
       "2  that is retarded you too cute to be single tha...     1   \n",
       "3  thought of a real badass mongol style declarat...     1   \n",
       "4                                afro american basho     1   \n",
       "\n",
       "                                         Content_int  \n",
       "0  [146715, 0, 1, 2, 3, 4, 5, 6, 7, 8, 9, 10, 11,...  \n",
       "1  [146715, 14, 15, 16, 17, 7, 18, 19, 20, 21, 22...  \n",
       "2  [146715, 28, 29, 30, 26, 31, 32, 7, 5, 33, 28,...  \n",
       "3  [146715, 35, 1, 24, 36, 37, 38, 39, 40, 1, 41,...  \n",
       "4                       [146715, 46, 47, 48, 146714]  "
      ]
     },
     "execution_count": 6,
     "metadata": {},
     "output_type": "execute_result"
    }
   ],
   "source": [
    "data.head()"
   ]
  },
  {
   "cell_type": "code",
   "execution_count": 10,
   "metadata": {},
   "outputs": [
    {
     "name": "stdout",
     "output_type": "stream",
     "text": [
      "Label balance in the dataset:\n",
      "Data set size:  440906\n",
      "Label\n",
      "0        0.820116\n",
      "1        0.179868\n",
      "Label    0.000016\n",
      "Name: proportion, dtype: float64\n",
      "Label balance in the balanced dataset:\n",
      "Data set size:  726119\n",
      "Label\n",
      "1    0.502018\n",
      "0    0.497982\n",
      "Name: proportion, dtype: float64\n"
     ]
    }
   ],
   "source": [
    "\n",
    "# Get label balance in the dataset\n",
    "def get_label_balance(df):\n",
    "    return df['Label'].value_counts(normalize=True)\n",
    "\n",
    "\n",
    "print('Label balance in the dataset:')\n",
    "print(\"Data set size: \", len(data))\n",
    "print(get_label_balance(data))\n",
    "\n",
    "print('Label balance in the balanced dataset:')\n",
    "print(\"Data set size: \", len(data_balanced))\n",
    "print(get_label_balance(data_balanced))\n",
    "\n",
    "# Get \n"
   ]
  },
  {
   "cell_type": "code",
   "execution_count": 9,
   "metadata": {},
   "outputs": [
    {
     "data": {
      "text/plain": [
       "True"
      ]
     },
     "execution_count": 9,
     "metadata": {},
     "output_type": "execute_result"
    }
   ],
   "source": [
    "data_balanced['Content'].values[0] in data['Content'].values"
   ]
  },
  {
   "cell_type": "code",
   "execution_count": 13,
   "metadata": {},
   "outputs": [
    {
     "name": "stdout",
     "output_type": "stream",
     "text": [
      "Is the balanced dataset a subset of the original dataset?\n",
      "443252\n"
     ]
    }
   ],
   "source": [
    "# Check if the balanced dataset is a subset of the original dataset\n",
    "def is_subset(df1, df2):\n",
    "    return all(df1['Content'].isin(df2['Content']))\n",
    "\n",
    "print('Is the balanced dataset a subset of the original dataset?')\n",
    "print(is_subset(data_balanced, data))\n"
   ]
  },
  {
   "cell_type": "code",
   "execution_count": 14,
   "metadata": {},
   "outputs": [
    {
     "name": "stdout",
     "output_type": "stream",
     "text": [
      "Does the balanced dataset contain duplicates?\n",
      "True\n"
     ]
    }
   ],
   "source": [
    "# Check if the balanced dataset contains duplicates\n",
    "def contains_duplicates(df):\n",
    "    return df['Content'].duplicated()\n",
    "\n",
    "print('Does the balanced dataset contain duplicates?')\n",
    "print(contains_duplicates(data_balanced))"
   ]
  },
  {
   "cell_type": "code",
   "execution_count": 17,
   "metadata": {},
   "outputs": [
    {
     "data": {
      "text/plain": [
       "26052"
      ]
     },
     "execution_count": 17,
     "metadata": {},
     "output_type": "execute_result"
    }
   ],
   "source": [
    "sum(data_balanced['Content'].duplicated())"
   ]
  },
  {
   "cell_type": "code",
   "execution_count": null,
   "metadata": {},
   "outputs": [],
   "source": []
  }
 ],
 "metadata": {
  "kernelspec": {
   "display_name": "hatespeech",
   "language": "python",
   "name": "python3"
  },
  "language_info": {
   "codemirror_mode": {
    "name": "ipython",
    "version": 3
   },
   "file_extension": ".py",
   "mimetype": "text/x-python",
   "name": "python",
   "nbconvert_exporter": "python",
   "pygments_lexer": "ipython3",
   "version": "3.11.5"
  }
 },
 "nbformat": 4,
 "nbformat_minor": 2
}
